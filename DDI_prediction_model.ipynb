{
 "cells": [
  {
   "metadata": {
    "ExecuteTime": {
     "end_time": "2024-06-22T10:22:12.196227Z",
     "start_time": "2024-06-22T10:22:12.190028Z"
    }
   },
   "cell_type": "code",
   "source": [
    "import os\n",
    "os.environ['TF_CPP_MIN_LOG_LEVEL'] = '3' "
   ],
   "outputs": [],
   "execution_count": 1
  },
  {
   "cell_type": "code",
   "metadata": {
    "ExecuteTime": {
     "end_time": "2024-06-22T10:22:14.410601Z",
     "start_time": "2024-06-22T10:22:12.213321Z"
    }
   },
   "source": [
    "# %cd ../DDI_model/ddi_model/\n",
    "import tensorflow.compat.v1 as tf\n",
    "tf.disable_v2_behavior()\n",
    "\n",
    "from ddi_model.data_load import *\n",
    "from ddi_model.model import DDI_model"
   ],
   "outputs": [
    {
     "name": "stdout",
     "output_type": "stream",
     "text": [
      "WARNING:tensorflow:From /home/ahmedh/.local/lib/python3.10/site-packages/tensorflow/python/compat/v2_compat.py:108: disable_resource_variables (from tensorflow.python.ops.variable_scope) is deprecated and will be removed in a future version.\n",
      "Instructions for updating:\n",
      "non-resource variables are not supported in the long term\n"
     ]
    }
   ],
   "execution_count": 2
  },
  {
   "cell_type": "code",
   "metadata": {
    "ExecuteTime": {
     "end_time": "2024-06-22T10:22:14.540205Z",
     "start_time": "2024-06-22T10:22:14.411835Z"
    }
   },
   "source": [
    "import tensorflow as tf\n",
    "from tensorflow.compat.v1.keras import backend as K\n",
    "\n",
    "import os\n",
    "# os.environ['CUDA_VISIBLE_DEVICES'] = '1'\n",
    "\n",
    "config = tf.compat.v1.ConfigProto()\n",
    "config.gpu_options.per_process_gpu_memory_fraction = 0.3\n",
    "session = tf.compat.v1.Session(config=config)\n",
    "K.set_session(session)"
   ],
   "outputs": [],
   "execution_count": 3
  },
  {
   "cell_type": "code",
   "metadata": {
    "ExecuteTime": {
     "end_time": "2024-06-22T10:22:14.543514Z",
     "start_time": "2024-06-22T10:22:14.541059Z"
    }
   },
   "source": [
    "np.random.seed(3)\n",
    "tf.compat.v1.random.set_random_seed(3)"
   ],
   "outputs": [],
   "execution_count": 4
  },
  {
   "cell_type": "markdown",
   "metadata": {},
   "source": [
    "## DDI model "
   ]
  },
  {
   "cell_type": "code",
   "metadata": {
    "ExecuteTime": {
     "end_time": "2024-06-22T10:22:15.081447Z",
     "start_time": "2024-06-22T10:22:14.544935Z"
    }
   },
   "source": [
    "ddi_model = DDI_model()"
   ],
   "outputs": [
    {
     "name": "stdout",
     "output_type": "stream",
     "text": [
      "WARNING:tensorflow:From /home/ahmedh/.local/lib/python3.10/site-packages/keras/src/layers/normalization/batch_normalization.py:883: _colocate_with (from tensorflow.python.framework.ops) is deprecated and will be removed in a future version.\n",
      "Instructions for updating:\n",
      "Colocations handled automatically by placer.\n",
      "WARNING:tensorflow:From /home/ahmedh/.local/lib/python3.10/site-packages/keras/src/initializers/initializers_v1.py:292: calling RandomUniform.__init__ (from tensorflow.python.ops.init_ops) with dtype is deprecated and will be removed in a future version.\n",
      "Instructions for updating:\n",
      "Call initializer instance with the dtype argument instead of passing it to the constructor\n"
     ]
    }
   ],
   "execution_count": 5
  },
  {
   "cell_type": "markdown",
   "metadata": {},
   "source": [
    "### Load data"
   ]
  },
  {
   "cell_type": "code",
   "metadata": {
    "ExecuteTime": {
     "end_time": "2024-06-22T10:22:15.471751Z",
     "start_time": "2024-06-22T10:22:15.082432Z"
    }
   },
   "source": [
    "train_data = load_train_example()\n",
    "ts_exp = load_exp()"
   ],
   "outputs": [
    {
     "name": "stdout",
     "output_type": "stream",
     "text": [
      "Including reverse pairs:  (38520, 4)\n"
     ]
    }
   ],
   "execution_count": 6
  },
  {
   "cell_type": "markdown",
   "metadata": {},
   "source": [
    "### Model training"
   ]
  },
  {
   "cell_type": "code",
   "metadata": {
    "scrolled": true,
    "ExecuteTime": {
     "end_time": "2024-06-22T10:22:30.878331Z",
     "start_time": "2024-06-22T10:22:15.473016Z"
    }
   },
   "source": "ddi_model.train(train_data=train_data, exp_df=ts_exp, split_frac=0.1, sampling_size=1, model_save_path='./DAS_Storage3/', model_name='test')",
   "outputs": [
    {
     "name": "stdout",
     "output_type": "stream",
     "text": [
      "0  Sample =======\n",
      "Cross validation train, test dataset size:  (34668, 3) (3852, 3)\n"
     ]
    },
    {
     "name": "stderr",
     "output_type": "stream",
     "text": [
      "/media/ahmedh/General/My projects/DeSIDE-DDI/ddi_model/model.py:147: UserWarning: `model.fit_generator` is deprecated and will be removed in a future version. Please use `Model.fit`, which supports generators.\n",
      "  self.model.fit_generator(generator=cv_train_gen, steps_per_epoch=steps_per_epoch, validation_data=cv_test_gen, \\\n",
      "/home/ahmedh/.local/lib/python3.10/site-packages/keras/src/engine/training_v1.py:2335: UserWarning: `Model.state_updates` will be removed in a future version. This property should not be used in TensorFlow 2.0, as `updates` are applied automatically.\n",
      "  updates = self.state_updates\n",
      "/media/ahmedh/General/My projects/DeSIDE-DDI/ddi_model/model.py:150: UserWarning: `Model.predict_generator` is deprecated and will be removed in a future version. Please use `Model.predict`, which supports generators.\n",
      "  cv_test_pred_y = self.model.predict_generator(generator=cv_test_gen)\n",
      "/home/ahmedh/.local/lib/python3.10/site-packages/keras/src/engine/training_v1.py:2359: UserWarning: `Model.state_updates` will be removed in a future version. This property should not be used in TensorFlow 2.0, as `updates` are applied automatically.\n",
      "  updates=self.state_updates,\n",
      "/media/ahmedh/General/My projects/DeSIDE-DDI/ddi_model/DeSIDE_DDI_functions.py:164: FutureWarning: The behavior of DataFrame concatenation with empty or all-NA entries is deprecated. In a future version, this will no longer exclude empty or all-NA columns when determining the result dtypes. To retain the old behavior, exclude the relevant entries before the concat operation.\n",
      "  se_performance = pd.concat([se_performance, temp_df], axis=0)\n"
     ]
    },
    {
     "name": "stdout",
     "output_type": "stream",
     "text": [
      "AUC: 0.532, AUPR: 0.699\n"
     ]
    }
   ],
   "execution_count": 7
  },
  {
   "metadata": {
    "ExecuteTime": {
     "end_time": "2024-06-22T10:22:30.884026Z",
     "start_time": "2024-06-22T10:22:30.879283Z"
    }
   },
   "cell_type": "code",
   "source": [
    "print(train_data.iloc[100:130,:3])\n",
    "\n",
    "print()"
   ],
   "outputs": [
    {
     "name": "stdout",
     "output_type": "stream",
     "text": [
      "     drug1    drug2  SE\n",
      "100   2955   156419   5\n",
      "101   3958     4885   5\n",
      "102   3640     3750   5\n",
      "103   3345  5311181   5\n",
      "104   1983     2187   5\n",
      "105   5090     5372   5\n",
      "106   2656     4473   5\n",
      "107   4635    54808   5\n",
      "108    937     5090   5\n",
      "109   2895     3154   5\n",
      "110   2022     3793   5\n",
      "111   2764     2812   5\n",
      "112   1117    59708   5\n",
      "113   3348     4499   5\n",
      "114   2764     3878   5\n",
      "115   3345     4894   5\n",
      "116   5002     5038   5\n",
      "117  60184   176870   5\n",
      "118   2162     2244   5\n",
      "119   5095    27661   5\n",
      "120   4946   110635   6\n",
      "121   2909    77992   6\n",
      "122   3365    54374   6\n",
      "123   2764    60854   6\n",
      "124   2171    83786   6\n",
      "125   3793   216326   6\n",
      "126   2786    24486   6\n",
      "127   4583    62924   6\n",
      "128   3075     3652   6\n",
      "129   3143     5358   6\n",
      "\n"
     ]
    }
   ],
   "execution_count": 8
  },
  {
   "cell_type": "markdown",
   "metadata": {},
   "source": [
    "### Load model and Evaluation"
   ]
  },
  {
   "cell_type": "code",
   "metadata": {
    "scrolled": true,
    "ExecuteTime": {
     "end_time": "2024-06-22T10:22:42.988266Z",
     "start_time": "2024-06-22T10:22:30.885159Z"
    }
   },
   "source": [
    "# load pretrained model weights\n",
    "ddi_model.load_model(model_load_path='./trained_model/', model_name='ddi_model_weights.h5', threshold_name='ddi_model_threshold.csv')\n",
    "\n",
    "# test model evaluation with example data\n",
    "prediced_label, performance = ddi_model.test(test_x=train_data.iloc[:,:3], test_y=train_data.iloc[:,3], exp_df=ts_exp)"
   ],
   "outputs": [
    {
     "name": "stderr",
     "output_type": "stream",
     "text": [
      "/media/ahmedh/General/My projects/DeSIDE-DDI/ddi_model/DeSIDE_DDI_functions.py:207: UserWarning: `Model.predict_generator` is deprecated and will be removed in a future version. Please use `Model.predict`, which supports generators.\n",
      "  pred_test = model.predict_generator(generator=test_gen)\n"
     ]
    },
    {
     "data": {
      "text/plain": [
       "<Figure size 600x600 with 1 Axes>"
      ],
      "image/png": "[encoded data removed]"
     },
     "metadata": {},
     "output_type": "display_data"
    },
    {
     "name": "stderr",
     "output_type": "stream",
     "text": [
      "/media/ahmedh/General/My projects/DeSIDE-DDI/ddi_model/DeSIDE_DDI_functions.py:187: FutureWarning: The behavior of DataFrame concatenation with empty or all-NA entries is deprecated. In a future version, this will no longer exclude empty or all-NA columns when determining the result dtypes. To retain the old behavior, exclude the relevant entries before the concat operation.\n",
      "  se_performance = pd.concat([se_performance, temp_df], axis=0)\n",
      "/media/ahmedh/General/My projects/DeSIDE-DDI/ddi_model/DeSIDE_DDI_functions.py:186: RuntimeWarning: invalid value encountered in scalar divide\n",
      "  'SN':tp/(tp+fn), 'SP':tn/(tn+fp), 'PR':tp/(tp+fp), 'AUC':auc, 'AUPR':aupr}, index=[0])\n",
      "/media/ahmedh/General/My projects/DeSIDE-DDI/ddi_model/DeSIDE_DDI_functions.py:186: RuntimeWarning: invalid value encountered in scalar divide\n",
      "  'SN':tp/(tp+fn), 'SP':tn/(tn+fp), 'PR':tp/(tp+fp), 'AUC':auc, 'AUPR':aupr}, index=[0])\n",
      "/media/ahmedh/General/My projects/DeSIDE-DDI/ddi_model/DeSIDE_DDI_functions.py:207: UserWarning: `Model.predict_generator` is deprecated and will be removed in a future version. Please use `Model.predict`, which supports generators.\n",
      "  pred_test = model.predict_generator(generator=test_gen)\n"
     ]
    },
    {
     "data": {
      "text/plain": [
       "<Figure size 600x600 with 1 Axes>"
      ],
      "image/png": "[encoded data removed]"
     },
     "metadata": {},
     "output_type": "display_data"
    },
    {
     "name": "stderr",
     "output_type": "stream",
     "text": [
      "/media/ahmedh/General/My projects/DeSIDE-DDI/ddi_model/DeSIDE_DDI_functions.py:187: FutureWarning: The behavior of DataFrame concatenation with empty or all-NA entries is deprecated. In a future version, this will no longer exclude empty or all-NA columns when determining the result dtypes. To retain the old behavior, exclude the relevant entries before the concat operation.\n",
      "  se_performance = pd.concat([se_performance, temp_df], axis=0)\n",
      "/media/ahmedh/General/My projects/DeSIDE-DDI/ddi_model/DeSIDE_DDI_functions.py:186: RuntimeWarning: invalid value encountered in scalar divide\n",
      "  'SN':tp/(tp+fn), 'SP':tn/(tn+fp), 'PR':tp/(tp+fp), 'AUC':auc, 'AUPR':aupr}, index=[0])\n",
      "/media/ahmedh/General/My projects/DeSIDE-DDI/ddi_model/DeSIDE_DDI_functions.py:186: RuntimeWarning: invalid value encountered in scalar divide\n",
      "  'SN':tp/(tp+fn), 'SP':tn/(tn+fp), 'PR':tp/(tp+fp), 'AUC':auc, 'AUPR':aupr}, index=[0])\n"
     ]
    },
    {
     "name": "stdout",
     "output_type": "stream",
     "text": [
      "Test set predicted === \n"
     ]
    },
    {
     "name": "stderr",
     "output_type": "stream",
     "text": [
      "/media/ahmedh/General/My projects/DeSIDE-DDI/ddi_model/DeSIDE_DDI_functions.py:249: FutureWarning: The behavior of DataFrame concatenation with empty or all-NA entries is deprecated. In a future version, this will no longer exclude empty or all-NA columns when determining the result dtypes. To retain the old behavior, exclude the relevant entries before the concat operation.\n",
      "  se_performance = pd.concat([se_performance, temp_df], axis=0)\n",
      "/media/ahmedh/General/My projects/DeSIDE-DDI/ddi_model/DeSIDE_DDI_functions.py:248: RuntimeWarning: invalid value encountered in scalar divide\n",
      "  'SN':tp/(tp+fn), 'SP':tn/(tn+fp), 'PR':tp/(tp+fp), 'AUC':auc, 'AUPR':aupr}, index=[0])\n",
      "/media/ahmedh/General/My projects/DeSIDE-DDI/ddi_model/DeSIDE_DDI_functions.py:248: RuntimeWarning: invalid value encountered in scalar divide\n",
      "  'SN':tp/(tp+fn), 'SP':tn/(tn+fp), 'PR':tp/(tp+fp), 'AUC':auc, 'AUPR':aupr}, index=[0])\n"
     ]
    },
    {
     "name": "stdout",
     "output_type": "stream",
     "text": [
      "AUC: 0.885, AUPR: 0.916\n"
     ]
    }
   ],
   "execution_count": 9
  },
  {
   "cell_type": "code",
   "metadata": {
    "ExecuteTime": {
     "end_time": "2024-06-22T10:22:42.996722Z",
     "start_time": "2024-06-22T10:22:42.989299Z"
    }
   },
   "source": [
    "drug_info = pd.read_csv('./data/twosides_drug_info.csv', index_col=0)\n",
    "drug_info_dict = dict(zip(drug_info.pubchemID, drug_info.name))\n",
    "side_effect_info = pd.read_csv('./data/twosides_side_effect_info.csv', index_col=0)\n",
    "side_effect_dict = dict(zip(side_effect_info.SE_map, side_effect_info['Side Effect Name']))\n",
    "\n",
    "se_UMLS_id = dict(zip(side_effect_info.SE_id, side_effect_info.SE_map))"
   ],
   "outputs": [],
   "execution_count": 10
  },
  {
   "metadata": {
    "ExecuteTime": {
     "end_time": "2024-06-22T10:22:43.168080Z",
     "start_time": "2024-06-22T10:22:42.998150Z"
    }
   },
   "cell_type": "code",
   "source": "print(side_effect_info)",
   "outputs": [
    {
     "name": "stdout",
     "output_type": "stream",
     "text": [
      "        SE_id  SE_map Polypharmacy Side Effect         Side Effect Name\n",
      "0    C0000731       0                 C0000731     abdominal distension\n",
      "1    C0000737       1                 C0000737           abdominal pain\n",
      "2    C0000768       2                 C0000768             birth defect\n",
      "3    C0000786       3                 C0000786     abortion spontaneous\n",
      "4    C0000833       4                 C0000833                  abscess\n",
      "..        ...     ...                      ...                      ...\n",
      "958  C1510475     958                 C1510475           diverticulosis\n",
      "959  C1527336     959                 C1527336        Sjogrens syndrome\n",
      "960  C1527344     960                 C1527344                dysphonia\n",
      "961  C1527407     961                 C1527407   eosinophilic pneumonia\n",
      "962  C1621958     962                 C1621958  glioblastoma multiforme\n",
      "\n",
      "[963 rows x 4 columns]\n"
     ]
    }
   ],
   "execution_count": 11
  },
  {
   "cell_type": "code",
   "metadata": {
    "ExecuteTime": {
     "end_time": "2024-06-22T10:22:43.370141Z",
     "start_time": "2024-06-22T10:22:43.169222Z"
    }
   },
   "source": [
    "drug1_cid = 3384 #@param {type:\"integer\"}\n",
    "drug2_cid = 3086258 #@param {type:\"integer\"}\n",
    "side_effect_UMLS_CUI = \"C0001546\" #@param {type:\"string\"}\n",
    "\n",
    "try:\n",
    "  side_effect_type = se_UMLS_id[side_effect_UMLS_CUI]\n",
    "except:\n",
    "  print('Side effect type not exist in TWOSIDES')\n",
    "  raise Exception()\n",
    "\n",
    "temp_df = pd.DataFrame({'drug1':drug1_cid, 'drug2':drug2_cid, 'SE':side_effect_type}, index=[0])\n",
    "\n",
    "ts_drug_list = ts_exp.pubchem.values.tolist()\n",
    "if (temp_df.drug1.values not in ts_drug_list) | (temp_df.drug2.values not in ts_drug_list):\n",
    "  print('Drug cannot be found')\n",
    "\n",
    "else:\n",
    "  predicted_label = ddi_model.predict(temp_df, exp_df=ts_exp)\n",
    "\n",
    "  print('Drug 1: ', drug_info_dict[drug1_cid], ', Drug 2: ', drug_info_dict[drug2_cid])\n",
    "  print('Side effect name: ', side_effect_dict[side_effect_type])\n",
    "  print('Predicted label: ', predicted_label.predicted_label[0])\n",
    "  print('Predicted score: ', predicted_label.predicted_score[0])"
   ],
   "outputs": [
    {
     "name": "stdout",
     "output_type": "stream",
     "text": [
      "Drug 1:  fluorometholone , Drug 2:  porfimer sodium\n",
      "Side effect name:  adjustment disorder\n",
      "Predicted label:  0\n",
      "Predicted score:  3.394589\n"
     ]
    },
    {
     "name": "stderr",
     "output_type": "stream",
     "text": [
      "/media/ahmedh/General/My projects/DeSIDE-DDI/ddi_model/model.py:185: UserWarning: `Model.predict_generator` is deprecated and will be removed in a future version. Please use `Model.predict`, which supports generators.\n",
      "  pred_y = self.model.predict_generator(generator=test_gen)\n"
     ]
    }
   ],
   "execution_count": 12
  },
  {
   "metadata": {
    "ExecuteTime": {
     "end_time": "2024-06-22T10:22:43.373207Z",
     "start_time": "2024-06-22T10:22:43.371248Z"
    }
   },
   "cell_type": "code",
   "source": "",
   "outputs": [],
   "execution_count": 12
  }
 ],
 "metadata": {
  "kernelspec": {
   "display_name": "Python 3",
   "language": "python",
   "name": "python3"
  },
  "language_info": {
   "codemirror_mode": {
    "name": "ipython",
    "version": 3
   },
   "file_extension": ".py",
   "mimetype": "text/x-python",
   "name": "python",
   "nbconvert_exporter": "python",
   "pygments_lexer": "ipython3",
   "version": "3.6.8"
  }
 },
 "nbformat": 4,
 "nbformat_minor": 2
}
